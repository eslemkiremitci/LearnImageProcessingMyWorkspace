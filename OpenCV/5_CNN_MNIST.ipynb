version https://git-lfs.github.com/spec/v1
oid sha256:bfed5639634cf7201d32a0e0a75bd4071be2251946b0383682026151cdde84d9
size 2679875
