version https://git-lfs.github.com/spec/v1
oid sha256:e33980f27fa6fc399ed2f17bd8d7123d4cb5932ed47743078f6b5f50ccbf08cf
size 4427684
