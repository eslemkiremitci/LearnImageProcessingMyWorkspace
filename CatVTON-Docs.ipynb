version https://git-lfs.github.com/spec/v1
oid sha256:8fd9874e4dffa4ca550113a20e9fedd5cd30d94c18d858d0dea92296708168e2
size 1492596
