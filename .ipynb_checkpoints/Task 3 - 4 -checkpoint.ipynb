{
 "cells": [
  {
   "cell_type": "markdown",
   "id": "8c75635d",
   "metadata": {},
   "source": [
    "Task 3 Şuarada --->  \\OpenCV\\2_OpenCV.ipynb"
   ]
  },
  {
   "cell_type": "markdown",
   "id": "6cca871d",
   "metadata": {},
   "source": [
    "Task 4 Şuarada --->  \\OpenCV\\4_OpenCV.ipynb"
   ]
  },
  {
   "cell_type": "code",
   "execution_count": null,
   "id": "28382b41",
   "metadata": {},
   "outputs": [],
   "source": []
  }
 ],
 "metadata": {
  "kernelspec": {
   "display_name": "Tarvina_env",
   "language": "python",
   "name": "tarvina_env"
  },
  "language_info": {
   "codemirror_mode": {
    "name": "ipython",
    "version": 3
   },
   "file_extension": ".py",
   "mimetype": "text/x-python",
   "name": "python",
   "nbconvert_exporter": "python",
   "pygments_lexer": "ipython3",
   "version": "3.10.16"
  }
 },
 "nbformat": 4,
 "nbformat_minor": 5
}
